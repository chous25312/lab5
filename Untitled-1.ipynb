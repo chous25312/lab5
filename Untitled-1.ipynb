{
 "cells": [
  {
   "cell_type": "code",
   "execution_count": null,
   "metadata": {},
   "outputs": [],
   "source": [
    "<!DOCTYPE html>\n",
    "<html>\n",
    "<head>\n",
    "    <title>Trang web cơ bản</title>\n",
    "    <style>\n",
    "        body {\n",
    "            font-family: Arial, sans-serif;\n",
    "        }\n",
    "        header {\n",
    "            background-color: #f8f9fa;\n",
    "            padding: 10px;\n",
    "            text-align: center;\n",
    "        }\n",
    "        main {\n",
    "            margin: 15px;\n",
    "        }\n",
    "        footer {\n",
    "            background-color: #f8f9fa;\n",
    "            padding: 10px;\n",
    "            text-align: center;\n",
    "        }\n",
    "    </style>\n",
    "</head>\n",
    "<body>\n",
    "    <header>\n",
    "        <h1>Chào mừng đến với trang web của tôi!</h1>\n",
    "    </header>\n",
    "    <main>\n",
    "        <h2>Giới thiệu</h2>\n",
    "        <p>Đây là một trang web cơ bản được tạo bằng HTML.</p>\n",
    "    </main>\n",
    "    <footer>\n",
    "        <p>© 2024 Trang web của tôi</p>\n",
    "    </footer>\n",
    "</body>\n",
    "</html>"
   ]
  },
  {
   "cell_type": "markdown",
   "metadata": {},
   "source": []
  }
 ],
 "metadata": {
  "language_info": {
   "name": "python"
  }
 },
 "nbformat": 4,
 "nbformat_minor": 2
}
